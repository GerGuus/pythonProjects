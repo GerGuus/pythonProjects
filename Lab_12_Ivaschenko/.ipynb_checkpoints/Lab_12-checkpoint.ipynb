{
 "cells": [
  {
   "cell_type": "markdown",
   "metadata": {},
   "source": [
    "#### 11.04.23, &copy; Іващенко Артем КІ-20-1, 2023"
   ]
  },
  {
   "cell_type": "markdown",
   "metadata": {},
   "source": [
    "# Лабораторна робота №12. "
   ]
  },
  {
   "cell_type": "markdown",
   "metadata": {},
   "source": [
    "__Мета:__ _навчитися програмувати в стилі об'єектно-орієнтованого програмування._"
   ]
  },
  {
   "cell_type": "markdown",
   "metadata": {},
   "source": [
    "##### __Примітка__. У лабораторній роботі використано матеріали [python institute.](https://pythoninstitute.org/pcep) "
   ]
  },
  {
   "cell_type": "markdown",
   "metadata": {
    "jp-MarkdownHeadingCollapsed": true,
    "tags": []
   },
   "source": [
    "#### Що ви будете вміти?\n",
    "* створювати класи та об'єкти у Python;\n",
    "* реалізувати механізми інкапсуляції та наслідування;\n",
    "* визначати та використовувати змінні екземпляра;\n",
    "* визначати та використовувати методи;\n",
    "* використовувати композицію."
   ]
  },
  {
   "cell_type": "markdown",
   "metadata": {},
   "source": [
    "### Завдання № 1\n",
    "\n",
    "Тепер ми збираємося вбудувати клас `Point` (див. попереднє завдання) в інший клас. Крім того, ми збираємося помістити три точки в один клас, що дозволить нам визначити трикутник. Як ми можемо це зробити?\n",
    "\n",
    "Новий клас буде називатися `Triangle`, і ось, що нам потрібно:\n",
    "\n",
    "* конструктор приймає три аргументи -- вони є об'єктами класу `Point`;\n",
    "* точки зберігаються всередині об'єкта як список;\n",
    "* клас надає метод без параметрів з назвою `perimeter()`, який обчислює периметр трикутника, описаного трьома точками; периметр – це сума довжин усіх сторін (це просто нагадування, хоча ми впевнені, що Ви самі це чудово знаєте).\n",
    "\n",
    "Доповніть шаблон, який ми надали в редакторі. Запустіть свій код і перевірте, чи збігається оцінюваний периметр з нашим.\n",
    "\n",
    "Нижче Ви можете скопіювати код класу `Point`, який ми використовували у попередній лабораторній роботі"
   ]
  },
  {
   "cell_type": "code",
   "execution_count": 1,
   "metadata": {},
   "outputs": [
    {
     "name": "stdout",
     "output_type": "stream",
     "text": [
      "12.0\n"
     ]
    }
   ],
   "source": [
    "class Point:\n",
    "    def __init__(self, x, y):\n",
    "        self.x = x\n",
    "        self.y = y\n",
    "class Triangle:\n",
    "    def __init__(self, point1, point2, point3):\n",
    "        self.points = [point1, point2, point3]\n",
    "\n",
    "    def perimeter(self):\n",
    "        side1 = self.calculate_distance(self.points[0], self.points[1])\n",
    "        side2 = self.calculate_distance(self.points[1], self.points[2])\n",
    "        side3 = self.calculate_distance(self.points[2], self.points[0])\n",
    "        return side1 + side2 + side3\n",
    "\n",
    "    @staticmethod\n",
    "    def calculate_distance(point1, point2):\n",
    "        distance = ((point2.x - point1.x) ** 2 + (point2.y - point1.y) ** 2) ** 0.5\n",
    "        return distance\n",
    "point1 = Point(0, 0)\n",
    "point2 = Point(3, 0)\n",
    "point3 = Point(0, 4)\n",
    "\n",
    "triangle = Triangle(point1, point2, point3)\n",
    "print(triangle.perimeter())  # Виведе 12.0"
   ]
  },
  {
   "cell_type": "markdown",
   "metadata": {},
   "source": [
    "### Завдання для самостіної роботи\n",
    "\n",
    "1. Виконати приклади 1-3 і завдання 1, наведені вище у цьому зошиті.\n",
    "\n",
    "1. Створити файл __lab_12_Ivaschenko.py__ з написаним кодом. \n",
    "\n",
    "1. Закомітити файл у локальний репозиторій.\n",
    "\n",
    "1. Відправити (\"запушити\") поточну версію Git-проєкта у віддалений репозиторій на GitHub.\n",
    "\n",
    "1. Звіт має складатися з файлу (за основу взяти __цей Python-зошит__)  `lab_12_Ivaschenko.ipynb`. (Можливі якісь додакові файли)"
   ]
  },
  {
   "cell_type": "markdown",
   "metadata": {},
   "source": [
    "### Контрольні запитання\n",
    "\n",
    "Припустимо, що наступний фрагмент коду успішно виконано:"
   ]
  },
  {
   "cell_type": "code",
   "execution_count": 2,
   "metadata": {},
   "outputs": [],
   "source": [
    "class Dog: \n",
    "    kennel = 0 \n",
    "    def __init__(self, breed): \n",
    "        self.breed = breed \n",
    "        Dog.kennel += 1 \n",
    "\n",
    "    def __str__(self): \n",
    "        return self.breed + \" says: Woof!\" \n",
    "\n",
    "\n",
    "class SheepDog(Dog): \n",
    "    def __str__(self): \n",
    "        return super().__str__() + \" Don't run away, Little Lamb!\" \n",
    "\n",
    "\n",
    "class GuardDog(Dog): \n",
    "     def __str__(self): \n",
    "         return super().__str__() + \" Stay where you are, Mister Intruder!\" \n",
    "\n",
    "rocky = SheepDog(\"Collie\") \n",
    "luna = GuardDog(\"Dobermann\") "
   ]
  },
  {
   "cell_type": "markdown",
   "metadata": {},
   "source": [
    "1. Який очікуваний вивід наступного фрагмента коду?\n",
    "\n",
    "`print(rocky)`  \n",
    "`print(luna)`\n",
    "Collie says: Woof! Don't run away, Little Lamb!\n",
    "Dobermann says: Woof! Stay where you are, Mister Intruder!\n",
    "2. Який очікуваний вивід наступного фрагмента коду?\n",
    "\n",
    "`print(issubclass(SheepDog, Dog), issubclass(SheepDog, GuardDog))`   \n",
    "`print(isinstance(rocky, GuardDog), isinstance(luna, GuardDog))`\n",
    "True False\n",
    "False True"
   ]
  },
  {
   "cell_type": "code",
   "execution_count": null,
   "metadata": {},
   "outputs": [],
   "source": []
  }
 ],
 "metadata": {
  "kernelspec": {
   "display_name": "Python 3 (ipykernel)",
   "language": "python",
   "name": "python3"
  },
  "language_info": {
   "codemirror_mode": {
    "name": "ipython",
    "version": 3
   },
   "file_extension": ".py",
   "mimetype": "text/x-python",
   "name": "python",
   "nbconvert_exporter": "python",
   "pygments_lexer": "ipython3",
   "version": "3.10.9"
  }
 },
 "nbformat": 4,
 "nbformat_minor": 4
}
