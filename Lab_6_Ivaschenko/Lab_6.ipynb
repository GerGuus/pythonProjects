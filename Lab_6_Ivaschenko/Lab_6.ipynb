{
 "cells": [
  {
   "cell_type": "markdown",
   "metadata": {},
   "source": [
    "#### 11.04.23, &copy; Іващенко Артем КІ-20-1, 2023"
   ]
  },
  {
   "cell_type": "markdown",
   "metadata": {},
   "source": [
    "# Лабораторна робота №6. "
   ]
  },
  {
   "cell_type": "markdown",
   "metadata": {},
   "source": [
    "__Мета:__ _навчитися писати функції та користуватися ними_"
   ]
  },
  {
   "cell_type": "markdown",
   "metadata": {},
   "source": [
    "##### __Примітка__. У лабораторній роботі використано матеріали [python institute.](https://pythoninstitute.org/pcep) "
   ]
  },
  {
   "cell_type": "markdown",
   "metadata": {
    "jp-MarkdownHeadingCollapsed": true,
    "tags": []
   },
   "source": [
    "#### Що ви будете вміти?\n",
    "* створювати користувацькі функції.\n",
    "* викликати користувацькі функції з параметрами та без.\n",
    "* освоїте обробку списків за допомогою функцій."
   ]
  },
  {
   "cell_type": "markdown",
   "metadata": {},
   "source": [
    "## Створення функції"
   ]
  },
  {
   "cell_type": "markdown",
   "metadata": {},
   "source": [
    "### Завдання 1\n",
    "\n",
    "Написати і протестувати фун\n",
    "кцію, яка приймає один аргумент (рік) і повертає `True`, якщо рік є високосним, або `False` інакше.\n",
    "\n",
    "Основу функції вже закладено у коді в редакторі.\n",
    "\n",
    "__Примітка:__ для вас підготувлено короткий тестуючий код, який можна використовувати для перевірки своєї функції.\n",
    "\n",
    "У коді використовуються два списки - один із тестовими даними, інший - з очікуваними результатами. Код повідомить Вам, якщо якісь із Ваших результатів неправильні."
   ]
  },
  {
   "cell_type": "code",
   "execution_count": 1,
   "metadata": {},
   "outputs": [
    {
     "name": "stdout",
     "output_type": "stream",
     "text": [
      "1900 ->OK\n",
      "2000 ->OK\n",
      "2016 ->OK\n",
      "1987 ->OK\n"
     ]
    }
   ],
   "source": [
    "def is_year_leap(year):\n",
    "    if year % 4 == 0:\n",
    "        if year % 100 == 0:\n",
    "            if year % 400 == 0:\n",
    "                return True\n",
    "            else:\n",
    "                return False\n",
    "        else:\n",
    "            return True\n",
    "    else:\n",
    "        return False\n",
    "\n",
    "# Тестові дані та очікувані результати\n",
    "test_data = [1900, 2000, 2016, 1987]\n",
    "test_results = [False, True, True, False]\n",
    "\n",
    "# Перевірка результатів\n",
    "for i in range(len(test_data)):\n",
    "    yr = test_data[i]\n",
    "    print(yr, \"->\", end=\"\")\n",
    "    result = is_year_leap(yr)\n",
    "    if result == test_results[i]:\n",
    "        print(\"OK\")\n",
    "    else:\n",
    "        print(\"Failed\")"
   ]
  },
  {
   "cell_type": "markdown",
   "metadata": {},
   "source": [
    "###  Завдання № 2"
   ]
  },
  {
   "cell_type": "markdown",
   "metadata": {},
   "source": [
    "Написати та протестувати функцію, яка приймає два аргументи (рік і місяць) і повертає кількість днів для даної пари рік-місяць (у той час, як тільки лютий чутливий до значення `year`, Ваша функція має бути універсальною).\n",
    "\n",
    "Початок функції готовий. Тепер переконайте функцію повернути `None`, якщо її аргументи не мають сенсу.\n",
    "\n",
    "Звичайно, Ви можете (і повинні) використовувати раніше написану та протестовану функцію (див. попередні лаб. роб.). Це може бути дуже корисним. Ми рекомендуємо використовувати список із зазначенням довжини місяців. Ви можете створити його всередині функції – цей трюк значно скоротить код.\n",
    "\n",
    "Ми підготували тестуючий код. Розвійте його, щоб увімкнути більше тестових випадків."
   ]
  },
  {
   "cell_type": "code",
   "execution_count": 3,
   "metadata": {
    "scrolled": true
   },
   "outputs": [
    {
     "name": "stdout",
     "output_type": "stream",
     "text": [
      "1900 2 ->OK\n",
      "2000 2 ->OK\n",
      "2016 1 ->OK\n",
      "1987 11 ->OK\n"
     ]
    }
   ],
   "source": [
    "\n",
    "def days_in_month(year, month):\n",
    "    # Перевірка аргументів на коректність\n",
    "    if month < 1 or month > 12:\n",
    "        return None\n",
    "\n",
    "    # Список з кількістю днів у місяцях\n",
    "    days_per_month = [31, 28, 31, 30, 31, 30, 31, 31, 30, 31, 30, 31]\n",
    "\n",
    "    # Перевірка високосного року\n",
    "    if month == 2 and is_year_leap(year):\n",
    "        return 29\n",
    "\n",
    "    return days_per_month[month - 1]\n",
    "\n",
    "# Тестові дані та очікувані результати\n",
    "test_years = [1900, 2000, 2016, 1987]\n",
    "test_months = [2, 2, 1, 11]\n",
    "test_results = [28, 29, 31, 30]\n",
    "\n",
    "# Перевірка результатів\n",
    "for i in range(len(test_years)):\n",
    "    yr = test_years[i]\n",
    "    mo = test_months[i]\n",
    "    print(yr, mo, \"->\", end=\"\")\n",
    "    result = days_in_month(yr, mo)\n",
    "    if result == test_results[i]:\n",
    "        print(\"OK\")\n",
    "    else:\n",
    "        print(\"Failed\")"
   ]
  },
  {
   "cell_type": "markdown",
   "metadata": {},
   "source": [
    "### Завдання № 3"
   ]
  },
  {
   "cell_type": "markdown",
   "metadata": {},
   "source": [
    "Написати та протестувати функцію, яка приймає три аргументи (рік, місяць та день місяця) та повертає відповідний день року або None, якщо якийсь із аргументів невірний.\n",
    "\n",
    "Використовуйте раніше написані та протестовані функції. Додайте до коду свої власні тестові випадки."
   ]
  },
  {
   "cell_type": "code",
   "execution_count": 4,
   "metadata": {},
   "outputs": [
    {
     "name": "stdout",
     "output_type": "stream",
     "text": [
      "[1, 2, 3, 4, 5, 6, 7, 8, 9]\n"
     ]
    }
   ],
   "source": [
    "def remove_duplicates(input_list):\n",
    "    unique_list = []\n",
    "    for num in input_list:\n",
    "        if num not in unique_list:\n",
    "            unique_list.append(num)\n",
    "    return unique_list\n",
    "\n",
    "# Приклад використання\n",
    "numbers = [1, 2, 3, 4, 4, 5, 6, 6, 7, 8, 8, 9]\n",
    "result = remove_duplicates(numbers)\n",
    "print(result)"
   ]
  },
  {
   "cell_type": "markdown",
   "metadata": {},
   "source": [
    "### Завдання № 4"
   ]
  },
  {
   "cell_type": "markdown",
   "metadata": {},
   "source": [
    "Натуральне число є простим, якщо воно більше 1 і не має дільників, крім 1 і самого себе.\n",
    "\n",
    "Важко? Зовсім ні. Наприклад, 8 не є простим числом, оскільки Ви можете розділити його на 2 та 4 (ми не можемо використовувати дільники, рівні 1 та 8, оскільки визначення забороняє це).\n",
    "\n",
    "З іншого боку, 7 - просте число, оскільки ми можемо знайти йому підходящих дільників.\n",
    "\n",
    "\n",
    "Ваше завдання - написати функцію, що перевіряє, чи є число простим чи ні.\n",
    "\n",
    "Функція:\n",
    "\n",
    "* називається `is_prime`;\n",
    "* приймає один аргумент (значення для перевірки)\n",
    "* повертає `True`, якщо аргумент є простим числом, і `False` інакше.  \n",
    "\n",
    "__Підказка:__ спробуйте розділити аргумент на всі наступні значення (починаючи з 2) і перевірте залишок - якщо він дорівнює нулю, Ваше число не може бути простим; добре подумайте, коли вам слід зупинити процес.\n",
    "\n",
    "Якщо вам потрібно знайти квадратний корінь із будь-якого значення, Ви можете використовувати оператор `**`. Пам'ятайте: квадратний корінь `x` дорівнює $x^{0,5}$.\n",
    "\n",
    "Доповніть код у редакторі."
   ]
  },
  {
   "cell_type": "code",
   "execution_count": 4,
   "metadata": {},
   "outputs": [
    {
     "name": "stdout",
     "output_type": "stream",
     "text": [
      "366\n"
     ]
    }
   ],
   "source": [
    "\n",
    "def day_of_year(year, month, day):\n",
    "    # Перевірка коректності аргументів\n",
    "    if month < 1 or month > 12 or day < 1:\n",
    "        return None\n",
    "\n",
    "    # Отримання кількості днів у місяці\n",
    "    days = days_in_month(year, month)\n",
    "    if days is None or day > days:\n",
    "        return None\n",
    "\n",
    "    # Розрахунок дня року\n",
    "    day_of_year = 0\n",
    "    for m in range(1, month):\n",
    "        days = days_in_month(year, m)\n",
    "        if days is None:\n",
    "            return None\n",
    "        day_of_year += days\n",
    "\n",
    "    day_of_year += day\n",
    "    return day_of_year\n",
    "\n",
    "print(day_of_year(2000, 12, 31))"
   ]
  },
  {
   "cell_type": "markdown",
   "metadata": {},
   "source": [
    "### Завдання № 4"
   ]
  },
  {
   "cell_type": "code",
   "execution_count": null,
   "metadata": {},
   "outputs": [],
   "source": [
    "Витрата палива автомобіля можна висловити по-різному. Наприклад, у Європі він відображається як кількість витраченого палива на 100 кілометрів шляху.\n",
    "\n",
    "У США він відображається як кількість миль, пройдених автомобілем під час витрачання одного галону палива.\n",
    "\n",
    "Ваше завдання - написати дві функції, що конвертують л/100км в миль на галон, і навпаки.\n",
    "\n",
    "Функції:\n",
    "\n",
    "* названі `liters_100km_to_miles_gallon` та `miles_gallon_to_liters_100km` відповідно;\n",
    "* приймають один аргумент (значення, що відповідає їхнім іменам)  \n",
    "\n",
    "Доповніть код у редакторі.\n",
    "\n",
    "Запустіть свій код і перевірте, чи Ваш результат збігається з нашим.\n",
    "\n",
    "Ось деяка інформація, яка може допомогти Вам:\n",
    "\n",
    "* 1 американська мідя = 1609.344 метрів;\n",
    "* 1 американський галон = 3.785411784 літрів."
   ]
  },
  {
   "cell_type": "code",
   "execution_count": 5,
   "metadata": {},
   "outputs": [
    {
     "name": "stdout",
     "output_type": "stream",
     "text": [
      "2 3 5 7 11 13 17 19 \n"
     ]
    }
   ],
   "source": [
    "def is_prime(num):\n",
    "    if num <= 1:\n",
    "        return False\n",
    "\n",
    "    for i in range(2, int(num**0.5) + 1):\n",
    "        if num % i == 0:\n",
    "            return False\n",
    "\n",
    "    return True\n",
    "for i in range(1, 20):\n",
    "    if is_prime(i + 1):\n",
    "        print(i + 1, end=\" \")\n",
    "print()\n"
   ]
  },
  {
   "cell_type": "markdown",
   "metadata": {},
   "source": [
    "### Завдання 5"
   ]
  },
  {
   "cell_type": "markdown",
   "metadata": {},
   "source": [
    "Витрата палива автомобіля можна висловити по-різному. Наприклад, у Європі він відображається як кількість витраченого палива на 100 кілометрів шляху.\n",
    "\n",
    "У США він відображається як кількість миль, пройдених автомобілем під час витрачання одного галону палива.\n",
    "\n",
    "Ваше завдання - написати дві функції, що конвертують л/100км в миль на галон, і навпаки.\n",
    "\n",
    "Функції:\n",
    "\n",
    "* названі `liters_100km_to_miles_gallon` та `miles_gallon_to_liters_100km` відповідно;\n",
    "* приймають один аргумент (значення, що відповідає їхнім іменам)  \n",
    "\n",
    "Доповніть код у редакторі.\n",
    "\n",
    "Запустіть свій код і перевірте, чи Ваш результат збігається з нашим.\n",
    "\n",
    "Ось деяка інформація, яка може допомогти Вам:\n",
    "\n",
    "* 1 американська мідя = 1609.344 метрів;\n",
    "* 1 американський галон = 3.785411784 літрів."
   ]
  },
  {
   "cell_type": "code",
   "execution_count": 6,
   "metadata": {},
   "outputs": [
    {
     "name": "stdout",
     "output_type": "stream",
     "text": [
      "97.0618598527688\n",
      "50.472167123439775\n",
      "37.85412534257983\n",
      "0.587074809528128\n",
      "1.1274079940938253\n",
      "1.5064089793423878\n"
     ]
    }
   ],
   "source": [
    "def liters_100km_to_miles_gallon(liters):\n",
    "    miles = 100 / (liters * 0.264172)\n",
    "    return miles\n",
    "\n",
    "def miles_gallon_to_liters_100km(miles):\n",
    "    liters = 100 / (miles * 2.82481)\n",
    "    return liters\n",
    "print(liters_100km_to_miles_gallon(3.9))\n",
    "print(liters_100km_to_miles_gallon(7.5))\n",
    "print(liters_100km_to_miles_gallon(10.))\n",
    "print(miles_gallon_to_liters_100km(60.3))\n",
    "print(miles_gallon_to_liters_100km(31.4))\n",
    "print(miles_gallon_to_liters_100km(23.5))"
   ]
  },
  {
   "cell_type": "markdown",
   "metadata": {},
   "source": [
    "### Завдання 6 "
   ]
  },
  {
   "cell_type": "markdown",
   "metadata": {},
   "source": [
    "Написати функцію, яка перевіряє, чи три сторони заданої довжини побудувати трикутник. Вона має повернути `True`, якщо сторони можуть утворити трикутник, і `False` в іншому випадку. У цьому випадку `is_a_triangle(a, b, c)` – гарна назва для такої функції."
   ]
  },
  {
   "cell_type": "code",
   "execution_count": 7,
   "metadata": {},
   "outputs": [
    {
     "name": "stdout",
     "output_type": "stream",
     "text": [
      "True\n",
      "False\n"
     ]
    }
   ],
   "source": [
    "def is_a_triangle(a, b, c):\n",
    "    if a + b > c and b + c > a and c + a > b:\n",
    "        return True\n",
    "    else:\n",
    "        return False\n",
    "print(is_a_triangle(3, 4, 5))  # True\n",
    "print(is_a_triangle(1, 2, 10))  # False"
   ]
  },
  {
   "cell_type": "markdown",
   "metadata": {},
   "source": [
    "### Завдання 7 "
   ]
  },
  {
   "cell_type": "markdown",
   "metadata": {},
   "source": [
    "Написати функцію `is_a_right_triangle(a, b, c)`, яка перевіряє, чи є трикутник зі сторонами `a`, `b`, `c` прямокутним. При цьому потрібно використати функцію `is_a_triangle(a, b, c)` з завдання 6. "
   ]
  },
  {
   "cell_type": "code",
   "execution_count": 8,
   "metadata": {},
   "outputs": [
    {
     "name": "stdout",
     "output_type": "stream",
     "text": [
      "True\n",
      "True\n",
      "False\n"
     ]
    }
   ],
   "source": [
    "def is_a_right_triangle(a, b, c):\n",
    "    if is_a_triangle(a, b, c):\n",
    "        sides = [a, b, c]\n",
    "        sides.sort()\n",
    "        if sides[0]**2 + sides[1]**2 == sides[2]**2:\n",
    "            return True\n",
    "    return False\n",
    "print(is_a_right_triangle(3, 4, 5))  # True\n",
    "print(is_a_right_triangle(5, 12, 13))  # True\n",
    "print(is_a_right_triangle(1, 2, 3))  # False"
   ]
  },
  {
   "cell_type": "markdown",
   "metadata": {},
   "source": [
    "### Завдання для самостіної роботи\n",
    "\n",
    "1. Виконати завдання 1-7 наведені вище у цьому зошиті.\n",
    "\n",
    "1. Створити файл __lab_6_Ivaschenko.py__ з написаним кодом. \n",
    "\n",
    "1. Закомітити файл у локальний репозиторій.\n",
    "\n",
    "1. Відправити (\"запушити\") поточну версію Git-проєкта у віддалений репозиторій на GitHub.\n",
    "\n",
    "1. Звіт має складатися з файлу (за основу взяти __цей Python-зошит__)  `lab_6_Ivaschenko.ipynb`. (Можливі якісь додакові файли)"
   ]
  },
  {
   "cell_type": "markdown",
   "metadata": {},
   "source": [
    "### Контрольні запитання\n",
    "\n",
    "1. Який вивод наступного фрагмента?  \n",
    "![image](images/1.png)\n",
    "Error\n",
    "1. Який вивод наступного фрагмента?  \n",
    "![image](images/2.png)\n",
    "1\n",
    "2\n",
    "1. Який вивод наступного фрагмента?  \n",
    "![image](images/3.png)\n",
    "2\n",
    "3\n",
    "3\n",
    "1. Який вивод наступного фрагмента?  \n",
    "![image](images/4.png)\n",
    "3\n",
    "2\n",
    "2"
   ]
  },
  {
   "cell_type": "code",
   "execution_count": null,
   "metadata": {},
   "outputs": [],
   "source": []
  }
 ],
 "metadata": {
  "kernelspec": {
   "display_name": "Python 3 (ipykernel)",
   "language": "python",
   "name": "python3"
  },
  "language_info": {
   "codemirror_mode": {
    "name": "ipython",
    "version": 3
   },
   "file_extension": ".py",
   "mimetype": "text/x-python",
   "name": "python",
   "nbconvert_exporter": "python",
   "pygments_lexer": "ipython3",
   "version": "3.10.9"
  }
 },
 "nbformat": 4,
 "nbformat_minor": 4
}
