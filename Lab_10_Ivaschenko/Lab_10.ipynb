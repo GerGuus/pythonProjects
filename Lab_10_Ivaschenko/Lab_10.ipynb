{
 "cells": [
  {
   "cell_type": "markdown",
   "metadata": {},
   "source": [
    "#### 11.04.23, &copy; Іващенко Артем КІ-20-1, 2023"
   ]
  },
  {
   "cell_type": "markdown",
   "metadata": {},
   "source": [
    "# Лабораторна робота №10. "
   ]
  },
  {
   "cell_type": "markdown",
   "metadata": {},
   "source": [
    "__Мета:__ _навчитися обробляти рядки за допомогою спеціальних функцій і методів._"
   ]
  },
  {
   "cell_type": "markdown",
   "metadata": {},
   "source": [
    "##### __Примітка__. У лабораторній роботі використано матеріали [python institute.](https://pythoninstitute.org/pcep) "
   ]
  },
  {
   "cell_type": "markdown",
   "metadata": {
    "jp-MarkdownHeadingCollapsed": true,
    "tags": []
   },
   "source": [
    "## Що ви будете вміти?\n",
    "\n",
    "* обробляти рядки за допомогою спеціальних функцій і методів Python;\n",
    "* сумісно обробляти рядки і списки;\n",
    "* обробляти винятки"
   ]
  },
  {
   "cell_type": "markdown",
   "metadata": {},
   "source": [
    "## Основні методи та функції для обробки рядків"
   ]
  },
  {
   "cell_type": "markdown",
   "metadata": {},
   "source": [
    "### Основні методи для обробки рядків"
   ]
  },
  {
   "cell_type": "markdown",
   "metadata": {},
   "source": [
    "* `capitalize()` – замінює всі мали букви на великі;\n",
    "* `center()` – центрує рядок всередині поля відомої довжини;\n",
    "* `count()` – рахує кількість входжень даного символу в рядку;\n",
    "* `join()` – з'єднує всі елементи кортежу/списку в один рядок;\n",
    "* `lower()` – перетворює всі літери рядка на малі;\n",
    "* `lstrip()` – видаляє білі символи з початку рядка;\n",
    "* `replace()` – замінює задану підрядок іншим;\n",
    "* `rfind()` – знаходить підрядок, пошук починається з кінця рядка;\n",
    "* `rstrip()` – видаляє білі символи з кінця рядка;\n",
    "* `split()` – розбиває рядок на підрядки з використанням заданого роздільника;\n",
    "* `strip()` – видаляє білі символи з початку і кінця рядка;\n",
    "* `swapcase()` – змінює регістр літер на протилежний (малі на великі і навпаки);\n",
    "* `title()` – робить першу літеру в кожному слові великою;\n",
    "* `upper()` – перетворює всі літери рядка на великі."
   ]
  },
  {
   "cell_type": "markdown",
   "metadata": {},
   "source": [
    "### Аналіз вмісту рядків "
   ]
  },
  {
   "cell_type": "markdown",
   "metadata": {},
   "source": [
    "Содержимое строки можна визначити за допомогою наступних методів (вони повертають логічні значення):\n",
    "\n",
    "* `endswith()` - закінчується рядок заданою підстрокою?\n",
    "* `isalnum()` - складається рядок лише з букв і цифр?\n",
    "* `isalpha()` - складається рядок лише з букв?\n",
    "* `islower()` - складається рядок лише з малих літер?\n",
    "* `isspace()` - складається рядок лише з пробільних символів?\n",
    "* `isupper()` - складається рядок лише з великих літер?\n",
    "* `startswith()` - починається рядок з даної підстроки?"
   ]
  },
  {
   "cell_type": "markdown",
   "metadata": {},
   "source": [
    "### Завдання № 1\n",
    "\n",
    "Давайте зіграємо у гру. Ми дамо Вам два рядки: один - слово (наприклад, \"dog\"), а другий - комбінація будь-яких символів.\n",
    "\n",
    "Ваше завдання – написати програму, яка відповість на наступне запитання: символи, що становлять перший рядок, приховані всередині другого рядка?\n",
    "\n",
    "Наприклад:\n",
    "\n",
    "якщо другий рядок заданий як \"vcxzxduybfdsobywuefgas\", відповідь `Yes`;\n",
    "якщо другий рядок \"vcxzxdcybfdstbywuefsas\", відповідь `No` (бо немає букв \"d\", \"o\" або \"g\" у цьому порядку).\n",
    "\n",
    "Підказка:\n",
    "\n",
    "Ви повинні використовувати варіанти з двома аргументами функцій `find()` всередині коду;\n",
    "не турбуйтеся про чутливість до регістру.\n",
    "Протестуйте свій код, використовуючи надані нами дані."
   ]
  },
  {
   "cell_type": "code",
   "execution_count": 1,
   "metadata": {},
   "outputs": [
    {
     "name": "stdout",
     "output_type": "stream",
     "text": [
      "Введіть слово: кен\n",
      "Введіть комбінацію символів: ыпар\n",
      "No\n"
     ]
    }
   ],
   "source": [
    "def check_hidden_word(word, combination):\n",
    "    index = -1\n",
    "    for char in word:\n",
    "        index = combination.find(char, index + 1)\n",
    "        if index == -1:\n",
    "            return False\n",
    "    return True\n",
    "\n",
    "# Запитуємо у користувача слово та комбінацію символів\n",
    "word = input(\"Введіть слово: \")\n",
    "combination = input(\"Введіть комбінацію символів: \")\n",
    "\n",
    "# Перевіряємо, чи приховане слово знаходиться у комбінації символів\n",
    "if check_hidden_word(word, combination):\n",
    "    print(\"Yes\")\n",
    "else:\n",
    "    print(\"No\")\n"
   ]
  },
  {
   "cell_type": "markdown",
   "metadata": {},
   "source": [
    "###  Завдання № 2"
   ]
  },
  {
   "cell_type": "markdown",
   "metadata": {},
   "source": [
    "Модифікувати код з Прикладу  таким чином, щоби виняток, який виникає при введені, оброблявся і забезпечував функціонування програми"
   ]
  },
  {
   "cell_type": "code",
   "execution_count": 2,
   "metadata": {
    "scrolled": true
   },
   "outputs": [
    {
     "name": "stdout",
     "output_type": "stream",
     "text": [
      "Введіть ціле число: 5\n",
      "2.5\n"
     ]
    }
   ],
   "source": [
    "while True:\n",
    "    try: \n",
    "        number = int(input(\"Введіть ціле число: \")) \n",
    "        print(number / 2) \n",
    "        break \n",
    "    except ValueError: \n",
    "        print(\"Введене значення не є допустимим числом. Повторіть спробу...\")"
   ]
  },
  {
   "cell_type": "markdown",
   "metadata": {},
   "source": [
    "### Завдання № 3"
   ]
  },
  {
   "cell_type": "markdown",
   "metadata": {},
   "source": [
    "Ваше завдання -- написати функцію, здатну набувати цілочисельних значень і перевіряти, чи знаходяться вони в зазначеному діапазоні.\n",
    "\n",
    "Функція повинна:\n",
    "\n",
    "* прийняти три аргументи: запит на введення даних, допустимі верхній та нижній межі;\n",
    "* якщо користувач вводить рядок, який не є цілим числом, функція повинна видати повідомлення `Error: wrong input і попросити користувача ввести значення знову`;\n",
    "* якщо користувач вводить число, яке виходить за межі вказаного діапазону, функція повинна видати повідомлення Error: the value is not within permitted range (`min..max`) і попросити користувача знову ввести значення;\n",
    "* якщо вхідне значення допустиме, поверніть його як результат."
   ]
  },
  {
   "cell_type": "code",
   "execution_count": 3,
   "metadata": {},
   "outputs": [
    {
     "name": "stdout",
     "output_type": "stream",
     "text": [
      "Введіть ціле число: 6\n",
      "Ви ввели: 6\n"
     ]
    }
   ],
   "source": [
    "def get_integer_input(prompt, min_value, max_value):\n",
    "    while True:\n",
    "        try:\n",
    "            value = int(input(prompt))\n",
    "            if value < min_value or value > max_value:\n",
    "                print(f\"Error: the value is not within permitted range ({min_value}..{max_value})\")\n",
    "            else:\n",
    "                return value\n",
    "        except ValueError:\n",
    "            print(\"Error: wrong input. Please enter an integer value.\")\n",
    "\n",
    "# Приклад використання функції\n",
    "number = get_integer_input(\"Введіть ціле число: \", 1, 100)\n",
    "print(\"Ви ввели:\", number)"
   ]
  },
  {
   "cell_type": "markdown",
   "metadata": {},
   "source": [
    "### Завдання для самостіної роботи\n",
    "\n",
    "1. Виконати приклади 1-4 і завдання 1-3, наведені вище у цьому зошиті.\n",
    "\n",
    "1. Створити файл __lab_10_Ivaschenko.py__ з написаним кодом. \n",
    "\n",
    "1. Закомітити файл у локальний репозиторій.\n",
    "\n",
    "1. Відправити (\"запушити\") поточну версію Git-проєкта у віддалений репозиторій на GitHub.\n",
    "\n",
    "1. Звіт має складатися з файлу (за основу взяти __цей Python-зошит__)  `lab_10_Ivaschenko.ipynb`. (Можливі якісь додакові файли)"
   ]
  },
  {
   "cell_type": "markdown",
   "metadata": {},
   "source": [
    "### Контрольні запитання\n",
    "\n",
    "1. Який вивод наступного фрагмента?  \n",
    "![image](images/1.png)\n",
    "we are done\n",
    "1. Який вивод наступного фрагмента?  \n",
    "![image](images/2.png)\n",
    "zero\n"
   ]
  },
  {
   "cell_type": "code",
   "execution_count": null,
   "metadata": {},
   "outputs": [],
   "source": []
  }
 ],
 "metadata": {
  "kernelspec": {
   "display_name": "Python 3 (ipykernel)",
   "language": "python",
   "name": "python3"
  },
  "language_info": {
   "codemirror_mode": {
    "name": "ipython",
    "version": 3
   },
   "file_extension": ".py",
   "mimetype": "text/x-python",
   "name": "python",
   "nbconvert_exporter": "python",
   "pygments_lexer": "ipython3",
   "version": "3.10.9"
  }
 },
 "nbformat": 4,
 "nbformat_minor": 4
}
