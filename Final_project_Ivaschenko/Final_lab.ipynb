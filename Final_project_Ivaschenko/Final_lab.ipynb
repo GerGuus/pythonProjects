{
 "cells": [
  {
   "cell_type": "markdown",
   "metadata": {},
   "source": [
    "#### 11.04.23, &copy; Іващенко Артем КІ-20-1, 2023"
   ]
  },
  {
   "cell_type": "markdown",
   "metadata": {},
   "source": [
    "# Фінальний проект. "
   ]
  },
  {
   "cell_type": "markdown",
   "metadata": {},
   "source": [
    "__Мета:__\n",
    "\n",
    "* _вдосконалення навичок у використанні Python для розв'язання складних завдань;_\n",
    "* _інтеграція методів програмування в одну програму, що складається з багатьох різних елементів._"
   ]
  },
  {
   "cell_type": "markdown",
   "metadata": {},
   "source": [
    "##### __Примітка__. У лабораторній роботі використано матеріали [python institute.](https://pythoninstitute.org/pcep) "
   ]
  },
  {
   "cell_type": "markdown",
   "metadata": {
    "jp-MarkdownHeadingCollapsed": true,
    "tags": []
   },
   "source": [
    "### Постановка завдання"
   ]
  },
  {
   "cell_type": "markdown",
   "metadata": {},
   "source": [
    "Ваше завдання - написати просту програму, яка вдає, ніби грає з користувачем у хрестики-нуліки. Щоб вам було простіше, ми вирішили спростити гру. Ось наші припущення:\n",
    "\n",
    "* комп'ютер (тобто Ваша програма) повинен грати у гру, використовуючи 'X';\n",
    "* користувач (наприклад, Ви) повинен грати в гру, використовуючи символи 'O';\n",
    "* перший хід належить комп'ютеру - він завжди поміщає свій перший 'X' у середину дошки;\n",
    "* всі квадрати пронумеровані рядок за рядком, починаючи з 1 (див. приклад сеансу нижче для довідки)\n",
    "* користувач робить свій хід, вводячи номер обраного ним квадрата - число має бути дійсним, тобто. воно має бути цілим числом, воно має бути більше 0 і менше 10 і воно не може вказувати на поле, яке вже зайняте;\n",
    "* програма перевіряє, чи закінчена гра - є чотири можливі варіанти: гра повинна продовжуватися, гра закінчується нічиєю, Ви виграєте або комп'ютер виграє;\n",
    "* комп'ютер відповідає  \n",
    "\n",
    "ходом і перевірка повторюється;\n",
    "* не застосовуйте штучний інтелект у будь-якій формі – випадковий вибір поля, зроблений комп'ютером, досить добрий для гри.  \n",
    " "
   ]
  },
  {
   "cell_type": "markdown",
   "metadata": {},
   "source": [
    "### Вимоги\n",
    "\n",
    "Реалізуйте такі функції:\n",
    "\n",
    "* дошка повинна зберігатися як список з трьох елементів, у той час як кожен елемент є ще одним список з трьох елементів (внутрішні списки представляють рядки), так що всі квадрати можуть бути доступні з використанням наступного синтаксису:  \n",
    "\n",
    "`board[row][column]`  \n",
    "\n",
    "* кожен із елементів внутрішнього списку може містити `'O'`, `'X'` або цифру, що становить номер квадрата (такий квадрат вважається вільним)\n",
    "* зовнішній вигляд дошки повинен бути таким самим, як у прикладі.  \n",
    "\n",
    "Отримати випадкове ціле число можна за допомогою функції Python під назвою `randrange()`. У наведеному нижче прикладі програми показано, як використовувати її (програма виводить десять випадкових чисел від `0` до `8`).\n",
    "\n",
    "Примітка: інструкція `from-import` забезпечує доступ до функції `randrange`, визначеної у зовнішньому модулі Python, що викликається `random`.\n",
    "\n",
    "```\n",
    "from random import randrange\n",
    "\n",
    "for i in range(10):  \n",
    "    print(randrange(8))"
   ]
  },
  {
   "cell_type": "code",
   "execution_count": 1,
   "metadata": {},
   "outputs": [
    {
     "name": "stdout",
     "output_type": "stream",
     "text": [
      "1|2|3\n",
      "-+-+-\n",
      "4|X|6\n",
      "-+-+-\n",
      "7|8|9\n",
      "Ваш хід (введіть число від 1 до 9): 3\n",
      "1|2|O\n",
      "-+-+-\n",
      "4|X|6\n",
      "-+-+-\n",
      "X|8|9\n",
      "Ваш хід (введіть число від 1 до 9): 1\n",
      "O|2|O\n",
      "-+-+-\n",
      "X|X|6\n",
      "-+-+-\n",
      "X|8|9\n",
      "Ваш хід (введіть число від 1 до 9): 6\n",
      "O|2|O\n",
      "-+-+-\n",
      "X|X|O\n",
      "-+-+-\n",
      "X|8|X\n",
      "Ваш хід (введіть число від 1 до 9): 2\n",
      "O|O|O\n",
      "-+-+-\n",
      "X|X|O\n",
      "-+-+-\n",
      "X|8|X\n",
      "Вітаємо! Ви перемогли комп'ютер.\n"
     ]
    }
   ],
   "source": [
    "import random\n",
    "\n",
    "def display_board(board):\n",
    "    print(board[1] + '|' + board[2] + '|' + board[3])\n",
    "    print('-+-+-')\n",
    "    print(board[4] + '|' + board[5] + '|' + board[6])\n",
    "    print('-+-+-')\n",
    "    print(board[7] + '|' + board[8] + '|' + board[9])\n",
    "\n",
    "def check_win(board, symbol):\n",
    "    winning_combinations = [\n",
    "        [1, 2, 3], [4, 5, 6], [7, 8, 9],  # horizontal\n",
    "        [1, 4, 7], [2, 5, 8], [3, 6, 9],  # vertical\n",
    "        [1, 5, 9], [3, 5, 7]              # diagonal\n",
    "    ]\n",
    "    for combination in winning_combinations:\n",
    "        if all(board[pos] == symbol for pos in combination):\n",
    "            return True\n",
    "    return False\n",
    "\n",
    "def make_move(board, symbol, position):\n",
    "    board[position] = symbol\n",
    "\n",
    "def is_board_full(board):\n",
    "    return all(cell != ' ' for cell in board)\n",
    "\n",
    "def player_move(board):\n",
    "    while True:\n",
    "        position = int(input(\"Ваш хід (введіть число від 1 до 9): \"))\n",
    "        if position in range(1, 10) and board[position] == str(position):\n",
    "            return position\n",
    "        else:\n",
    "            print(\"Некоректний хід. Спробуйте ще раз.\")\n",
    "\n",
    "def computer_move(board):\n",
    "    empty_positions = [pos for pos, cell in enumerate(board) if cell == str(pos)]\n",
    "    return random.choice(empty_positions)\n",
    "\n",
    "def play_game():\n",
    "    board = [' '] + [str(i) for i in range(1, 10)]\n",
    "    board[5] = 'X'  # Перший хід завжди в середину дошки\n",
    "\n",
    "    while True:\n",
    "        display_board(board)\n",
    "\n",
    "        if check_win(board, 'X'):\n",
    "            print(\"Комп'ютер переміг! Ви програли.\")\n",
    "            break\n",
    "        elif check_win(board, 'O'):\n",
    "            print(\"Вітаємо! Ви перемогли комп'ютер.\")\n",
    "            break\n",
    "        elif is_board_full(board):\n",
    "            print(\"Гра закінчилася внічию.\")\n",
    "            break\n",
    "\n",
    "        position = player_move(board)\n",
    "        make_move(board, 'O', position)\n",
    "\n",
    "        if check_win(board, 'O'):\n",
    "            display_board(board)\n",
    "            print(\"Вітаємо! Ви перемогли комп'ютер.\")\n",
    "            break\n",
    "        elif is_board_full(board):\n",
    "            display_board(board)\n",
    "            print(\"Гра закінчилася внічию.\")\n",
    "            break\n",
    "\n",
    "        computer_position = computer_move(board)\n",
    "        make_move(board, 'X', computer_position)\n",
    "\n",
    "play_game()"
   ]
  },
  {
   "cell_type": "markdown",
   "metadata": {},
   "source": [
    "### Завдання для самостіної роботи\n",
    "\n",
    "1. Виконати завдання 1-8 наведені вище у цьому зошиті.\n",
    "\n",
    "1. Створити файл __lab_3_Ivaschenko.py__ з написаним кодом. \n",
    "\n",
    "1. Закомітити файл у локальний репозиторій.\n",
    "\n",
    "1. Відправити (\"запушити\") поточну версію Git-проєкта у віддалений репозиторій на GitHub.\n",
    "\n",
    "1. Звіт має складатися з файлу (за основу взяти __цей Python-зошит__)  `lab_3_Ivaschenko.ipynb`. (Можливі якісь додакові файли)"
   ]
  }
 ],
 "metadata": {
  "kernelspec": {
   "display_name": "Python 3 (ipykernel)",
   "language": "python",
   "name": "python3"
  },
  "language_info": {
   "codemirror_mode": {
    "name": "ipython",
    "version": 3
   },
   "file_extension": ".py",
   "mimetype": "text/x-python",
   "name": "python",
   "nbconvert_exporter": "python",
   "pygments_lexer": "ipython3",
   "version": "3.10.9"
  }
 },
 "nbformat": 4,
 "nbformat_minor": 4
}
