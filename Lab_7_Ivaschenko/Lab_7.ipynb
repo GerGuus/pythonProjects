{
 "cells": [
  {
   "cell_type": "markdown",
   "metadata": {},
   "source": [
    "#### 11.04.23, &copy; Іващенко Артем КІ-20-1, 2023"
   ]
  },
  {
   "cell_type": "markdown",
   "metadata": {},
   "source": [
    "# Лабораторна робота №7. "
   ]
  },
  {
   "cell_type": "markdown",
   "metadata": {},
   "source": [
    "__Мета:__ _навчитися працювати зі структурами даних Кортеж та Словник. Навчитись обробляти основні типи винятків_"
   ]
  },
  {
   "cell_type": "markdown",
   "metadata": {},
   "source": [
    "##### __Примітка__. У лабораторній роботі використано матеріали [python institute.](https://pythoninstitute.org/pcep) "
   ]
  },
  {
   "cell_type": "markdown",
   "metadata": {
    "jp-MarkdownHeadingCollapsed": true,
    "tags": []
   },
   "source": [
    "#### Що ви будете вміти?\n",
    "* створювати та обробляти кортежі (`tuple`).\n",
    "* створювати і обробляти словники (`dict`).\n",
    "* сумісно викростовувати словники і кортежі\n",
    "* обробляти основні типи винятків."
   ]
  },
  {
   "cell_type": "markdown",
   "metadata": {},
   "source": [
    "## Робота зі словниками"
   ]
  },
  {
   "cell_type": "markdown",
   "metadata": {},
   "source": [
    "### Завдання 1"
   ]
  },
  {
   "cell_type": "markdown",
   "metadata": {},
   "source": [
    "Напишіть програму, яка створює кортеж зі списку чисел, а потім виводить на екран всі числа, які менші за задане число `n`. Умова: користувач вводить число `n`, і   щоб створити новий список `result`, який містить всі числа з кортежу, які менші за `n`, реалізувати за допомогою генератора списків."
   ]
  },
  {
   "cell_type": "code",
   "execution_count": 4,
   "metadata": {},
   "outputs": [
    {
     "name": "stdout",
     "output_type": "stream",
     "text": [
      "Введіть числа, розділені комою: 4, 6\n",
      "Введіть число n: 7\n",
      "Числа, менші за 7 : [4, 6]\n"
     ]
    }
   ],
   "source": [
    "def create_tuple(numbers):\n",
    "    # Створюємо кортеж зі списку чисел\n",
    "    num_tuple = tuple(numbers)\n",
    "    return num_tuple\n",
    "\n",
    "def filter_numbers(num_tuple, n):\n",
    "    # Використовуємо генератор списків, щоб створити новий список з чисел, менших за n\n",
    "    result = [num for num in num_tuple if num < n]\n",
    "    return result\n",
    "\n",
    "# Запитуємо у користувача ввід чисел через кому\n",
    "input_numbers = input(\"Введіть числа, розділені комою: \")\n",
    "numbers_list = [int(num) for num in input_numbers.split(',')]\n",
    "\n",
    "# Запитуємо у користувача ввід числа n\n",
    "n = int(input(\"Введіть число n: \"))\n",
    "\n",
    "# Створюємо кортеж зі списку чисел\n",
    "my_tuple = create_tuple(numbers_list)\n",
    "\n",
    "# Фільтруємо числа, менші за n\n",
    "filtered_numbers = filter_numbers(my_tuple, n)\n",
    "\n",
    "# Виводимо результат\n",
    "print(\"Числа, менші за\", n, \":\", filtered_numbers)"
   ]
  },
  {
   "cell_type": "markdown",
   "metadata": {},
   "source": [
    "### Завдання 2\n",
    "Напишіть програму, яка створює кортеж з трьох елементів, які є рядками, та з'єднує їх в один рядок з комою як роздільником. Примітка: з'єднати рядки також можна за допомогою методу `.joint()`"
   ]
  },
  {
   "cell_type": "code",
   "execution_count": 2,
   "metadata": {},
   "outputs": [
    {
     "name": "stdout",
     "output_type": "stream",
     "text": [
      "apple, banana, cherry\n"
     ]
    }
   ],
   "source": [
    "strings = (\"apple\", \"banana\", \"cherry\")\n",
    "joined_string = \", \".join(strings)\n",
    "print(joined_string)"
   ]
  },
  {
   "cell_type": "markdown",
   "metadata": {},
   "source": [
    "###  Завдання № 3"
   ]
  },
  {
   "cell_type": "markdown",
   "metadata": {},
   "source": [
    "Створіть словник, який містить інформацію про книги в бібліотеці. Ключами будуть назви книг, а значеннями - автори, рік видання та кількість сторінок. Виведіть на екран інформацію про книгу, введену користувачем."
   ]
  },
  {
   "cell_type": "code",
   "execution_count": 5,
   "metadata": {
    "scrolled": true
   },
   "outputs": [
    {
     "name": "stdout",
     "output_type": "stream",
     "text": [
      "Введіть назву книги: Книга 2\n",
      "Інформація про книгу Книга 2:\n",
      "Автор: Автор 2\n",
      "Рік видання: 2018\n",
      "Кількість сторінок: 150\n"
     ]
    }
   ],
   "source": [
    "library = {\n",
    "    \"Книга 1\": {\n",
    "        \"автор\": \"Автор 1\",\n",
    "        \"рік видання\": 2020,\n",
    "        \"кількість сторінок\": 200\n",
    "    },\n",
    "    \"Книга 2\": {\n",
    "        \"автор\": \"Автор 2\",\n",
    "        \"рік видання\": 2018,\n",
    "        \"кількість сторінок\": 150\n",
    "    },\n",
    "    \"Книга 3\": {\n",
    "        \"автор\": \"Автор 3\",\n",
    "        \"рік видання\": 2021,\n",
    "        \"кількість сторінок\": 300\n",
    "    }\n",
    "}\n",
    "\n",
    "# Запитуємо у користувача назву книги\n",
    "book_name = input(\"Введіть назву книги: \")\n",
    "\n",
    "# Перевіряємо, чи існує введена книга в словнику\n",
    "if book_name in library:\n",
    "    book_info = library[book_name]\n",
    "    print(\"Інформація про книгу\", book_name + \":\")\n",
    "    print(\"Автор:\", book_info[\"автор\"])\n",
    "    print(\"Рік видання:\", book_info[\"рік видання\"])\n",
    "    print(\"Кількість сторінок:\", book_info[\"кількість сторінок\"])\n",
    "else:\n",
    "    print(\"Книга\", book_name, \"не знайдена в бібліотеці.\")"
   ]
  },
  {
   "cell_type": "markdown",
   "metadata": {},
   "source": [
    "### Завдання № 4"
   ]
  },
  {
   "cell_type": "markdown",
   "metadata": {},
   "source": [
    "Напишіть програму, яка створює словник, що містить інформацію про студентів, використовуючи вказані кортежі в якості значень. Кожен ключ -- це прізвище студента. Виведіть на екран інформацію про студента, введеного користувачем."
   ]
  },
  {
   "cell_type": "code",
   "execution_count": 4,
   "metadata": {},
   "outputs": [
    {
     "name": "stdout",
     "output_type": "stream",
     "text": [
      "[1, 2, 3, 4, 5, 6, 7, 8, 9]\n"
     ]
    }
   ],
   "source": [
    "def remove_duplicates(input_list):\n",
    "    unique_list = []\n",
    "    for num in input_list:\n",
    "        if num not in unique_list:\n",
    "            unique_list.append(num)\n",
    "    return unique_list\n",
    "\n",
    "# Приклад використання\n",
    "numbers = [1, 2, 3, 4, 4, 5, 6, 6, 7, 8, 8, 9]\n",
    "result = remove_duplicates(numbers)\n",
    "print(result)"
   ]
  },
  {
   "cell_type": "markdown",
   "metadata": {},
   "source": [
    "### Завдання № 5"
   ]
  },
  {
   "cell_type": "markdown",
   "metadata": {},
   "source": [
    "Створіть словник, який містить інформацію про більше, ніж один номер телефону для кожного з контактів в телефонній книзі. Ключами будуть імена контактів, а значеннями - список їхніх номерів телефонів. Напишіть функцію, яка дозволяє додати новий номер телефону до списку номерів телефону певного контакту. Потім виведіть на екран список номерів телефонів для всіх контактів. "
   ]
  },
  {
   "cell_type": "code",
   "execution_count": 6,
   "metadata": {},
   "outputs": [
    {
     "name": "stdout",
     "output_type": "stream",
     "text": [
      "Введіть прізвище студента: Сміт\n",
      "Інформація про студента Сміт:\n",
      "Ім'я: Джон\n",
      "Вік: 20\n",
      "Спеціальність: Інформатика\n"
     ]
    }
   ],
   "source": [
    "students = {\n",
    "    \"Сміт\": (\"Джон\", 20, \"Інформатика\"),\n",
    "    \"Джонсон\": (\"Мері\", 21, \"Економіка\"),\n",
    "    \"Браун\": (\"Том\", 19, \"Математика\")\n",
    "}\n",
    "\n",
    "# Запитуємо у користувача прізвище студента\n",
    "last_name = input(\"Введіть прізвище студента: \")\n",
    "\n",
    "# Перевіряємо, чи існує введений студент у словнику\n",
    "if last_name in students:\n",
    "    student_info = students[last_name]\n",
    "    print(\"Інформація про студента\", last_name + \":\")\n",
    "    print(\"Ім'я:\", student_info[0])\n",
    "    print(\"Вік:\", student_info[1])\n",
    "    print(\"Спеціальність:\", student_info[2])\n",
    "else:\n",
    "    print(\"Студент з прізвищем\", last_name, \"не знайдений.\")"
   ]
  },
  {
   "cell_type": "markdown",
   "metadata": {},
   "source": [
    "### Завдання для самостіної роботи\n",
    "\n",
    "1. Виконати завдання 1-5 наведені вище у цьому зошиті.\n",
    "\n",
    "1. Створити файл __lab_7_Ivashenko.py__ з написаним кодом. \n",
    "\n",
    "1. Закомітити файл у локальний репозиторій.\n",
    "\n",
    "1. Відправити (\"запушити\") поточну версію Git-проєкта у віддалений репозиторій на GitHub.\n",
    "\n",
    "1. Звіт має складатися з файлу (за основу взяти __цей Python-зошит__)  `lab_7_Ivaschenko.ipynb`. (Можливі якісь додакові файли)"
   ]
  },
  {
   "cell_type": "markdown",
   "metadata": {},
   "source": [
    "### Контрольні запитання\n",
    "\n",
    "1. Що виведе наступний код?\n",
    "\n",
    "```\n",
    "my_tuple = (1, 2, 3)\n",
    "print(my_tuple[1:])\n",
    "```\n",
    "(2, 3)\n",
    "1. Що виведе наступний код?\n",
    "```\n",
    "my_dict = {'a': 1, 'b': 2, 'c': 3}\n",
    "print(my_dict.get('d', 4))\n",
    "```\n",
    "4\n",
    "1. Що виведе наступний код?\n",
    "```\n",
    "my_tuple = (1, 2, 3)\n",
    "my_tuple[0] = 4\n",
    "print(my_tuple)\n",
    "```\n",
    "TypeError\n",
    "1. Що виведе наступний код?\n",
    "```\n",
    "my_dict = {'a': 1, 'b': 2, 'c': 3}\n",
    "my_dict.update({'d': 4})\n",
    "print(my_dict)\n",
    "```\n",
    "('d', 4)"
   ]
  },
  {
   "cell_type": "code",
   "execution_count": null,
   "metadata": {},
   "outputs": [],
   "source": []
  }
 ],
 "metadata": {
  "kernelspec": {
   "display_name": "Python 3 (ipykernel)",
   "language": "python",
   "name": "python3"
  },
  "language_info": {
   "codemirror_mode": {
    "name": "ipython",
    "version": 3
   },
   "file_extension": ".py",
   "mimetype": "text/x-python",
   "name": "python",
   "nbconvert_exporter": "python",
   "pygments_lexer": "ipython3",
   "version": "3.10.9"
  }
 },
 "nbformat": 4,
 "nbformat_minor": 4
}
