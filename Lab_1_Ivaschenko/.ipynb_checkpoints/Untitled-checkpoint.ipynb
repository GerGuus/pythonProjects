{
 "cells": [
  {
   "cell_type": "code",
   "execution_count": 2,
   "id": "5bb36fb7",
   "metadata": {},
   "outputs": [],
   "source": [
    "#### 06.04.23, &copy; Іващенко Артем КІ-20-1, 2023"
   ]
  },
  {
   "cell_type": "code",
   "execution_count": 3,
   "id": "a9cf3fd1",
   "metadata": {},
   "outputs": [],
   "source": [
    "# Лабораторна робота №1. "
   ]
  },
  {
   "cell_type": "code",
   "execution_count": 4,
   "id": "785ccca1",
   "metadata": {},
   "outputs": [
    {
     "ename": "SyntaxError",
     "evalue": "invalid syntax (547323446.py, line 1)",
     "output_type": "error",
     "traceback": [
      "\u001b[1;36m  Cell \u001b[1;32mIn[4], line 1\u001b[1;36m\u001b[0m\n\u001b[1;33m    __Тема:__ _Інсталяція та налаштування Python-середовища_ \\\u001b[0m\n\u001b[1;37m              ^\u001b[0m\n\u001b[1;31mSyntaxError\u001b[0m\u001b[1;31m:\u001b[0m invalid syntax\n"
     ]
    }
   ],
   "source": [
    "__Тема:__ _Інсталяція та налаштування Python-середовища_ \\\n",
    "__Мета:__ _quick start для роботи з python3 у середовищі IDE PyCharm системою контроля версій git._"
   ]
  },
  {
   "cell_type": "code",
   "execution_count": null,
   "id": "72152945",
   "metadata": {},
   "outputs": [],
   "source": [
    "1.Завантажив і встановив Python. \\\n",
    "2.Завантажив, встановив і налаштував IDE PyCharm у відповідності з інструкціями. \\\n",
    "3.Завантажив, встановив і налаштував систему контроля версій Git на робочому комп'ютері. \\\n",
    "4.Створив акаунт на GitHub та стоврив в ньому новий проєкт з іменем pythonProject. \\\n",
    "5.Налаштував зв'язок PyCharm з Git. \\\n",
    "6.Налаштував зв'язок PyCharm з віддаленим репозиторієм на GitHub. \\\n",
    "7.Створив файл lab_1_Samarec.py з кодом, який виводить фразу \"Hi, GerGus\""
   ]
  },
  {
   "cell_type": "code",
   "execution_count": null,
   "id": "a4f43dba",
   "metadata": {},
   "outputs": [],
   "source": [
    "![image](images/Lab_1_1.png)"
   ]
  }
 ],
 "metadata": {
  "kernelspec": {
   "display_name": "Python 3 (ipykernel)",
   "language": "python",
   "name": "python3"
  },
  "language_info": {
   "codemirror_mode": {
    "name": "ipython",
    "version": 3
   },
   "file_extension": ".py",
   "mimetype": "text/x-python",
   "name": "python",
   "nbconvert_exporter": "python",
   "pygments_lexer": "ipython3",
   "version": "3.10.9"
  }
 },
 "nbformat": 4,
 "nbformat_minor": 5
}
