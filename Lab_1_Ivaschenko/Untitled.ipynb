{
 "cells": [
  {
   "cell_type": "markdown",
   "id": "3ea3414b",
   "metadata": {},
   "source": [
    "#### 06.04.23, &copy; Іващенко Артем КІ-20-1, 2023"
   ]
  },
  {
   "cell_type": "markdown",
   "id": "9bc52954",
   "metadata": {},
   "source": [
    "# Лабораторна робота №1. "
   ]
  },
  {
   "cell_type": "markdown",
   "id": "509b7908",
   "metadata": {},
   "source": [
    "__Тема:__ _Інсталяція та налаштування Python-середовища_ \\\n",
    "__Мета:__ _quick start для роботи з python3 у середовищі IDE PyCharm системою контроля версій git._"
   ]
  },
  {
   "cell_type": "markdown",
   "id": "21e2f3be",
   "metadata": {},
   "source": [
    "1.Завантажив і встановив Python. \\\n",
    "2.Завантажив, встановив і налаштував IDE PyCharm у відповідності з інструкціями. \\\n",
    "3.Завантажив, встановив і налаштував систему контроля версій Git на робочому комп'ютері. \\\n",
    "4.Створив акаунт на GitHub та стоврив в ньому новий проєкт з іменем pythonProject. \\\n",
    "5.Налаштував зв'язок PyCharm з Git. \\\n",
    "6.Налаштував зв'язок PyCharm з віддаленим репозиторієм на GitHub. \\\n",
    "7.Створив файл lab_1_Samarec.py з кодом, який виводить фразу \"Hi, GerGus\""
   ]
  },
  {
   "cell_type": "markdown",
   "id": "4c4d4667",
   "metadata": {},
   "source": [
    "![image](images/Lab_1_1.png)"
   ]
  },
  {
   "cell_type": "markdown",
   "id": "5c995326",
   "metadata": {},
   "source": [
    "# [Посилання на репозиторій](https://github.com/GerGuus/pythonProjects)"
   ]
  },
  {
   "cell_type": "markdown",
   "id": "a7d2ab1b",
   "metadata": {},
   "source": [
    "### Контрольні запитання\n",
    "\n",
    "1. У чому відмінність інтерпретатора від компілятора? Python - компілятор чи інтерпретатор? \n",
    "       Компілятор повністю перетворює початковий код програми в машинний, який операційна система може виконати самостійно. \n",
    "       Python може бути визначений як інтерпретатор та компілятор, оскільки він компілює код Python у байт-код перед його                інтерпретацією. \n",
    "  \n",
    "2. Що таке IDE PyCharm?\n",
    "       PyCharm — інтегроване середовище розробки для мови програмування Python\n",
    "\n",
    "3. Що таке система контроля версій (СКВ) і для чого вона призначена? У чому принципова відмінність СКВ svn та git?\n",
    "       Система керування версіями (СКВ, англ. source code management, SCM) — програмний інструмент для керування версіями одиниці інформації: початкового коду програми, скрипту, вебсторінки, вебсайту, 3D-моделі, текстового документу тощо. \n",
    "       SVN налаштований так, що передбачається, що журнал проекту ніколи не змінюється. Git дозволяє змінювати попередні фіксації та зміни за допомогою таких засобів як git rebase.\n",
    "\n",
    "4. Що відбувається при виконанні команди `git add .`?\n",
    "       Команда git add додає зміну з робочого каталогу до розділу проіндексованих файлів   \n",
    "\n",
    "5. Що відбувається при виконанні команди `git commit`?\n",
    "       Команда git add додає вміст робочого каталогу до індексу (staging area) для наступного комміту\n",
    "\n",
    "6. Якою git-командою виконується розміщення локальної копії git-репозиторію проєкта на віддаленому, що знаходиться на GitHub?\n",
    "        git clone"
   ]
  },
  {
   "cell_type": "code",
   "execution_count": null,
   "id": "9fa225af",
   "metadata": {},
   "outputs": [],
   "source": []
  },
  {
   "cell_type": "code",
   "execution_count": null,
   "id": "4d92445d",
   "metadata": {},
   "outputs": [],
   "source": []
  },
  {
   "cell_type": "code",
   "execution_count": null,
   "id": "067ae8ff",
   "metadata": {},
   "outputs": [],
   "source": []
  }
 ],
 "metadata": {
  "kernelspec": {
   "display_name": "Python 3 (ipykernel)",
   "language": "python",
   "name": "python3"
  },
  "language_info": {
   "codemirror_mode": {
    "name": "ipython",
    "version": 3
   },
   "file_extension": ".py",
   "mimetype": "text/x-python",
   "name": "python",
   "nbconvert_exporter": "python",
   "pygments_lexer": "ipython3",
   "version": "3.10.9"
  }
 },
 "nbformat": 4,
 "nbformat_minor": 5
}
