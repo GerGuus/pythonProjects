{
 "cells": [
  {
   "cell_type": "markdown",
   "metadata": {},
   "source": [
    "#### 11.04.23, &copy; Іващенко Артем КІ-20-1, 2023"
   ]
  },
  {
   "cell_type": "markdown",
   "metadata": {},
   "source": [
    "# Лабораторна робота №5. "
   ]
  },
  {
   "cell_type": "markdown",
   "metadata": {},
   "source": [
    "__Мета:__ _освоїти роботу зі списками_"
   ]
  },
  {
   "cell_type": "markdown",
   "metadata": {},
   "source": [
    "##### __Примітка__. У лабораторній роботі використано матеріали [python institute.](https://pythoninstitute.org/pcep) "
   ]
  },
  {
   "cell_type": "markdown",
   "metadata": {
    "jp-MarkdownHeadingCollapsed": true,
    "tags": []
   },
   "source": [
    "#### Що ви будете вміти?\n",
    "* створювати та оперувати списками.\n",
    "* використовувати функції та методи `len()`, `append()`, `insert()`, `sort()`, `reverse()`.\n",
    "* виконувати зрізи та використовувати директиву `dell`.\n",
    "* використовувати оператори `in` та `not in`.\n",
    "* використовувати генератори списків.\n",
    "* створювати та оперувати багатовимірними списками"
   ]
  },
  {
   "cell_type": "markdown",
   "metadata": {},
   "source": [
    "## Створення та обробка списків"
   ]
  },
  {
   "cell_type": "markdown",
   "metadata": {},
   "source": [
    "### Завдання № 1\n",
    "\n",
    "Жив-був капелюх. У капелюсі не було кролика, натомість був список із п'яти чисел: `1`, `2`, `3`, `4` та `5`.\n",
    "\n",
    "Ваше завдання:\n",
    "\n",
    "* напишіть рядок коду, що пропонує користувачеві замінити число всередині списку цілим числом, введеним користувачем (крок 1)\n",
    "* напишіть рядок коду, який видаляє останній елемент зі списку (крок 2)\n",
    "* напишіть рядок коду, який друкує довжину існуючого списку (крок 3).  \n",
    "\n",
    "Чи готові до цього випробування?"
   ]
  },
  {
   "cell_type": "code",
   "execution_count": 1,
   "metadata": {},
   "outputs": [
    {
     "name": "stdout",
     "output_type": "stream",
     "text": [
      "Введіть ціле число для заміни: 3\n",
      "Довжина списку: 4\n"
     ]
    }
   ],
   "source": [
    "numbers = [1, 2, 3, 4, 5]\n",
    "\n",
    "# Крок 1: Заміна числа в списку\n",
    "num_to_replace = int(input(\"Введіть ціле число для заміни: \"))\n",
    "numbers[2] = num_to_replace\n",
    "\n",
    "# Крок 2: Видалення останнього елемента зі списку\n",
    "numbers.pop()\n",
    "\n",
    "# Крок 3: Друк довжини списку\n",
    "print(\"Довжина списку:\", len(numbers))\n"
   ]
  },
  {
   "cell_type": "markdown",
   "metadata": {},
   "source": [
    "### Сортування списків "
   ]
  },
  {
   "cell_type": "markdown",
   "metadata": {},
   "source": [
    "Поряд з можливістю реалізувати будь-який алгоритм сортування, у python існують вбудовані методи для сортування списків."
   ]
  },
  {
   "cell_type": "code",
   "execution_count": 2,
   "metadata": {},
   "outputs": [
    {
     "name": "stdout",
     "output_type": "stream",
     "text": [
      "[0, 1, 7, 23, 34]\n",
      "[34, 23, 7, 1, 0]\n"
     ]
    }
   ],
   "source": [
    "my_list = [1, 7, 23, 34, 0]\n",
    "my_list.sort()\n",
    "print(my_list)\n",
    "my_list.reverse()\n",
    "print(my_list)"
   ]
  },
  {
   "cell_type": "markdown",
   "metadata": {},
   "source": [
    "###  Завдання № 2"
   ]
  },
  {
   "cell_type": "markdown",
   "metadata": {},
   "source": [
    "Написати програму сортування списку у порядку зростання методом бульбашки."
   ]
  },
  {
   "cell_type": "code",
   "execution_count": 3,
   "metadata": {
    "scrolled": true
   },
   "outputs": [
    {
     "name": "stdout",
     "output_type": "stream",
     "text": [
      "Початковий список: [5, 2, 9, 1, 3]\n",
      "Відсортований список: [1, 2, 3, 5, 9]\n"
     ]
    }
   ],
   "source": [
    "def bubble_sort(lst):\n",
    "    n = len(lst)\n",
    "    for i in range(n - 1):\n",
    "        for j in range(n - i - 1):\n",
    "            if lst[j] > lst[j + 1]:\n",
    "                lst[j], lst[j + 1] = lst[j + 1], lst[j]\n",
    "\n",
    "# Приклад вхідного списку\n",
    "numbers = [5, 2, 9, 1, 3]\n",
    "\n",
    "print(\"Початковий список:\", numbers)\n",
    "bubble_sort(numbers)\n",
    "print(\"Відсортований список:\", numbers)"
   ]
  },
  {
   "cell_type": "markdown",
   "metadata": {},
   "source": [
    "### Конструкції `in` та `not in`"
   ]
  },
  {
   "cell_type": "markdown",
   "metadata": {},
   "source": [
    "### Завдання № 3"
   ]
  },
  {
   "cell_type": "markdown",
   "metadata": {},
   "source": [
    "Уявіть список - не дуже довгий, не дуже складний, просто звичайний список, що містить деякі цілі числа. Деякі з цих чисел можуть повторюватись, і це ключ до розгадки. Ми не хочемо повторень. Ми хочемо, щоб їх видалили.\n",
    "\n",
    "Ваше завдання – написати програму, яка видаляє всі дублікати чисел зі списку. Ціль полягає в тому, щоб скласти список, в якому всі числа зустрічаються не більше одного разу.\n",
    "\n",
    "__Примітка:__ припустимо, що вихідний список жорстко закодований всередині коду - Вам не потрібно вводити його з клавіатури. Звичайно, Ви можете покращити код і додати частину, яка може вести діалог з користувачем і отримувати від неї всі дані.\n",
    "\n",
    "__Підказка:__ ми рекомендуємо Вам створити новий список як тимчасову робочу область - вам не потрібно оновлювати список in situ.\n",
    "\n",
    "Ми не надали тестових даних, оскільки було б надто просто. Натомість ви можете використовувати наш скелет."
   ]
  },
  {
   "cell_type": "code",
   "execution_count": 4,
   "metadata": {},
   "outputs": [
    {
     "name": "stdout",
     "output_type": "stream",
     "text": [
      "[1, 2, 3, 4, 5, 6, 7, 8, 9]\n"
     ]
    }
   ],
   "source": [
    "def remove_duplicates(input_list):\n",
    "    unique_list = []\n",
    "    for num in input_list:\n",
    "        if num not in unique_list:\n",
    "            unique_list.append(num)\n",
    "    return unique_list\n",
    "\n",
    "# Приклад використання\n",
    "numbers = [1, 2, 3, 4, 4, 5, 6, 6, 7, 8, 8, 9]\n",
    "result = remove_duplicates(numbers)\n",
    "print(result)"
   ]
  },
  {
   "cell_type": "markdown",
   "metadata": {},
   "source": [
    "### Багатовимірні списки. Генератори списків "
   ]
  },
  {
   "cell_type": "markdown",
   "metadata": {},
   "source": [
    "### Завдання № 4"
   ]
  },
  {
   "cell_type": "markdown",
   "metadata": {},
   "source": [
    "Погляньте на шахівницю. Кожне поле містить кілька індексів, які необхідно вказати для доступу до вмісту клітини:  "
   ]
  },
  {
   "cell_type": "code",
   "execution_count": 5,
   "metadata": {},
   "outputs": [
    {
     "name": "stdout",
     "output_type": "stream",
     "text": [
      "R _ _ _ _ _ _ R\n",
      "_ _ _ _ _ _ _ _\n",
      "_ _ _ _ _ _ _ _\n",
      "_ _ _ _ _ _ _ _\n",
      "_ _ _ _ _ _ _ _\n",
      "_ _ _ _ _ _ _ _\n",
      "_ _ _ _ _ _ _ _\n",
      "R _ _ _ _ _ _ R\n"
     ]
    }
   ],
   "source": [
    "# Створення матриці 8x8 з пустими клітинками\n",
    "chessboard = [['_' for _ in range(8)] for _ in range(8)]\n",
    "\n",
    "# Розстановка турів по кутках шахівниці\n",
    "chessboard[0][0] = 'R'  # Лівий верхній кут\n",
    "chessboard[0][7] = 'R'  # Правий верхній кут\n",
    "chessboard[7][0] = 'R'  # Лівий нижній кут\n",
    "chessboard[7][7] = 'R'  # Правий нижній кут\n",
    "\n",
    "# Вивід шахівниці на екран\n",
    "for row in chessboard:\n",
    "    print(' '.join(row))"
   ]
  },
  {
   "cell_type": "markdown",
   "metadata": {},
   "source": [
    "### Завдання для самостіної роботи\n",
    "\n",
    "1. Виконати завдання 1-4 наведені вище у цьому зошиті.\n",
    "\n",
    "1. Створити файл __lab_5_Ivaschenko.py__ з написаним кодом. \n",
    "\n",
    "1. Закомітити файл у локальний репозиторій.\n",
    "\n",
    "1. Відправити (\"запушити\") поточну версію Git-проєкта у віддалений репозиторій на GitHub.\n",
    "\n",
    "1. Звіт має складатися з файлу (за основу взяти __цей Python-зошит__)  `lab_5_Ivaschenko.ipynb`. (Можливі якісь додакові файли)"
   ]
  },
  {
   "cell_type": "markdown",
   "metadata": {},
   "source": [
    "### Контрольні запитання\n",
    "\n",
    "1. Який вивод наступного фрагмента?  \n",
    "![image](images/1.png)\n",
    "[\"A\",\"B\",\"C\"]\n",
    "1. Який вивод наступного фрагмента?  \n",
    "![image](images/2.png)\n",
    "[\"A\",\"B\",\"C\"]\n",
    "1. Який вивод наступного фрагмента?  \n",
    "![image](images/3.png)\n",
    "[\"A\",\"B\",\"C\"]\n",
    "1. Який вивод наступного фрагмента?  \n",
    "![image](images/4.png)\n",
    "[\"A\",\"B\",\"C\"]"
   ]
  },
  {
   "cell_type": "code",
   "execution_count": null,
   "metadata": {},
   "outputs": [],
   "source": []
  }
 ],
 "metadata": {
  "kernelspec": {
   "display_name": "Python 3 (ipykernel)",
   "language": "python",
   "name": "python3"
  },
  "language_info": {
   "codemirror_mode": {
    "name": "ipython",
    "version": 3
   },
   "file_extension": ".py",
   "mimetype": "text/x-python",
   "name": "python",
   "nbconvert_exporter": "python",
   "pygments_lexer": "ipython3",
   "version": "3.10.9"
  }
 },
 "nbformat": 4,
 "nbformat_minor": 4
}
