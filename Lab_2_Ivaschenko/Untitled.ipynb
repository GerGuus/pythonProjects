{
 "cells": [
  {
   "cell_type": "markdown",
   "id": "23dec30c",
   "metadata": {},
   "source": [
    "#### 06.04.23, &copy; Іващенко Артем КІ-20-1, 2023"
   ]
  },
  {
   "cell_type": "markdown",
   "id": "1afa90e1",
   "metadata": {},
   "source": [
    "# Лабораторна робота №2. "
   ]
  },
  {
   "cell_type": "markdown",
   "id": "22b2fbfb",
   "metadata": {},
   "source": [
    "__Тема:__ _Функція print()_ \\\n",
    "__Мета:__ _навчитися писати і запускати найпростіші програми на Python з використанням функції `print()`_ "
   ]
  },
  {
   "cell_type": "markdown",
   "id": "92c59189",
   "metadata": {},
   "source": [
    "![image](images/img1.png)\n",
    "![image](images/img2.png)"
   ]
  },
  {
   "cell_type": "markdown",
   "id": "1243073b",
   "metadata": {},
   "source": [
    "# [Посилання на репозиторій](https://github.com/GerGuus/pythonProjects)"
   ]
  },
  {
   "cell_type": "markdown",
   "id": "d87197de",
   "metadata": {},
   "source": [
    "### Контрольні запитання\n",
    "\n",
    "1. Записати ієрархію операторів.\n",
    "![image](images/img3.png)\n",
    "\n",
    "3. Записти на Python обчислення виразу $3^{3^4}$"
   ]
  },
  {
   "cell_type": "code",
   "execution_count": 4,
   "id": "cc2e58c1",
   "metadata": {},
   "outputs": [
    {
     "ename": "NameError",
     "evalue": "name 'np' is not defined",
     "output_type": "error",
     "traceback": [
      "\u001b[1;31m---------------------------------------------------------------------------\u001b[0m",
      "\u001b[1;31mNameError\u001b[0m                                 Traceback (most recent call last)",
      "Cell \u001b[1;32mIn[4], line 5\u001b[0m\n\u001b[0;32m      3\u001b[0m result \u001b[38;5;241m=\u001b[39m \u001b[38;5;28mpow\u001b[39m(\u001b[38;5;28mpow\u001b[39m(\u001b[38;5;241m3\u001b[39m,\u001b[38;5;241m3\u001b[39m),\u001b[38;5;241m4\u001b[39m)\n\u001b[0;32m      4\u001b[0m \u001b[38;5;66;03m#або\u001b[39;00m\n\u001b[1;32m----> 5\u001b[0m result \u001b[38;5;241m=\u001b[39m \u001b[43mnp\u001b[49m\u001b[38;5;241m.\u001b[39mpower(np\u001b[38;5;241m.\u001b[39mpower(\u001b[38;5;241m3\u001b[39m,\u001b[38;5;241m3\u001b[39m),\u001b[38;5;241m4\u001b[39m)\n",
      "\u001b[1;31mNameError\u001b[0m: name 'np' is not defined"
     ]
    }
   ],
   "source": [
    " result = (3**3)**4\n",
    "#або\n",
    " result = pow(pow(3,3),4)\n",
    "#або\n",
    " result = np.power(np.power(3,3),4)"
   ]
  },
  {
   "cell_type": "markdown",
   "id": "bc047ec8",
   "metadata": {},
   "source": [
    "3. Що робить escape-символ \\n при виводі на екран функцією `print()`? \\\n",
    "      \\n - символ перенесення рядка"
   ]
  }
 ],
 "metadata": {
  "kernelspec": {
   "display_name": "Python 3 (ipykernel)",
   "language": "python",
   "name": "python3"
  },
  "language_info": {
   "codemirror_mode": {
    "name": "ipython",
    "version": 3
   },
   "file_extension": ".py",
   "mimetype": "text/x-python",
   "name": "python",
   "nbconvert_exporter": "python",
   "pygments_lexer": "ipython3",
   "version": "3.10.9"
  }
 },
 "nbformat": 4,
 "nbformat_minor": 5
}
